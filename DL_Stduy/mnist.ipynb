{
 "metadata": {
  "language_info": {
   "codemirror_mode": {
    "name": "ipython",
    "version": 3
   },
   "file_extension": ".py",
   "mimetype": "text/x-python",
   "name": "python",
   "nbconvert_exporter": "python",
   "pygments_lexer": "ipython3",
   "version": 3
  },
  "orig_nbformat": 2,
  "kernelspec": {
   "name": "python_defaultSpec_1595752361848",
   "display_name": "Python 3.7.7 64-bit ('imgcnn': conda)"
  }
 },
 "nbformat": 4,
 "nbformat_minor": 2,
 "cells": [
  {
   "cell_type": "code",
   "execution_count": 1,
   "metadata": {},
   "outputs": [],
   "source": [
    "import pandas as pd\n",
    "import numpy as np"
   ]
  },
  {
   "cell_type": "code",
   "execution_count": 2,
   "metadata": {},
   "outputs": [],
   "source": [
    "from __future__ import absolute_import, division, print_function, unicode_literals\n",
    "\n",
    "# !p# ip install -q tensorflow-gpu==2.0.0-rc1\n",
    "import tensorflow as tf\n",
    "from keras.utils import np_utils\n",
    "from tensorflow.keras import datasets, layers, models"
   ]
  },
  {
   "cell_type": "code",
   "execution_count": 3,
   "metadata": {},
   "outputs": [],
   "source": [
    "import matplotlib.pyplot as plt\n",
    "%matplotlib inline\n",
    "# import seaborn as sns\n",
    "# from sklearn.metrics import accuracy_score, confusion_matrix, classification_report"
   ]
  },
  {
   "cell_type": "code",
   "execution_count": 4,
   "metadata": {},
   "outputs": [],
   "source": [
    "width = 28\n",
    "height = 28"
   ]
  },
  {
   "cell_type": "code",
   "execution_count": 5,
   "metadata": {},
   "outputs": [],
   "source": [
    "(train_images, train_labels), (test_images, test_labels) = datasets.mnist.load_data()\n",
    "\n",
    "train_images = train_images.reshape((60000, 28, 28, 1))\n",
    "test_images = test_images.reshape((10000, 28, 28, 1))\n",
    "\n",
    "# 픽셀 값을 0~1 사이로 정규화합니다.\n",
    "train_images, test_images = train_images / 255.0, test_images / 255.0"
   ]
  },
  {
   "cell_type": "code",
   "execution_count": 6,
   "metadata": {},
   "outputs": [],
   "source": [
    "# x_val = x_train[50000:]\n",
    "# y_val = y_train[50000:]\n",
    "# x_train = x_train[:50000]\n",
    "# y_train = y_train[:50000]"
   ]
  },
  {
   "cell_type": "code",
   "execution_count": 7,
   "metadata": {},
   "outputs": [],
   "source": [
    "# y_train = np_utils.to_categorical(y_train)\n",
    "# y_val = np_utils.to_categorical(y_val)\n",
    "# y_test = np_utils.to_categorical(y_test)"
   ]
  },
  {
   "cell_type": "code",
   "execution_count": 8,
   "metadata": {},
   "outputs": [],
   "source": [
    "model = models.Sequential()\n",
    "model.add(layers.Conv2D(32, (3, 3), activation='relu', input_shape=(28, 28, 1)))\n",
    "model.add(layers.MaxPooling2D((2, 2)))\n",
    "model.add(layers.Conv2D(64, (3, 3), activation='relu'))\n",
    "model.add(layers.MaxPooling2D((2, 2)))\n",
    "model.add(layers.Conv2D(64, (3, 3), activation='relu'))\n",
    "model.add(layers.Flatten())\n",
    "model.add(layers.Dense(64, activation='relu'))\n",
    "model.add(layers.Dense(10, activation='softmax'))"
   ]
  },
  {
   "cell_type": "code",
   "execution_count": 9,
   "metadata": {
    "tags": []
   },
   "outputs": [
    {
     "output_type": "stream",
     "name": "stdout",
     "text": "Model: \"sequential\"\n_________________________________________________________________\nLayer (type)                 Output Shape              Param #   \n=================================================================\nconv2d (Conv2D)              (None, 26, 26, 32)        320       \n_________________________________________________________________\nmax_pooling2d (MaxPooling2D) (None, 13, 13, 32)        0         \n_________________________________________________________________\nconv2d_1 (Conv2D)            (None, 11, 11, 64)        18496     \n_________________________________________________________________\nmax_pooling2d_1 (MaxPooling2 (None, 5, 5, 64)          0         \n_________________________________________________________________\nconv2d_2 (Conv2D)            (None, 3, 3, 64)          36928     \n_________________________________________________________________\nflatten (Flatten)            (None, 576)               0         \n_________________________________________________________________\ndense (Dense)                (None, 64)                36928     \n_________________________________________________________________\ndense_1 (Dense)              (None, 10)                650       \n=================================================================\nTotal params: 93,322\nTrainable params: 93,322\nNon-trainable params: 0\n_________________________________________________________________\n"
    }
   ],
   "source": [
    "model.summary()"
   ]
  },
  {
   "cell_type": "code",
   "execution_count": 10,
   "metadata": {
    "tags": []
   },
   "outputs": [
    {
     "output_type": "stream",
     "name": "stdout",
     "text": "Epoch 1/20\n1875/1875 [==============================] - 5s 3ms/step - loss: 0.1466 - accuracy: 0.9556\nEpoch 2/20\n1875/1875 [==============================] - 5s 3ms/step - loss: 0.0454 - accuracy: 0.9858\nEpoch 3/20\n1875/1875 [==============================] - 5s 3ms/step - loss: 0.0320 - accuracy: 0.9901\nEpoch 4/20\n1875/1875 [==============================] - 5s 3ms/step - loss: 0.0256 - accuracy: 0.9921\nEpoch 5/20\n1875/1875 [==============================] - 5s 3ms/step - loss: 0.0211 - accuracy: 0.9934\nEpoch 6/20\n1875/1875 [==============================] - 5s 3ms/step - loss: 0.0163 - accuracy: 0.9947\nEpoch 7/20\n1875/1875 [==============================] - 5s 3ms/step - loss: 0.0123 - accuracy: 0.9960\nEpoch 8/20\n1875/1875 [==============================] - 5s 3ms/step - loss: 0.0111 - accuracy: 0.9966\nEpoch 9/20\n1875/1875 [==============================] - 5s 3ms/step - loss: 0.0105 - accuracy: 0.9963\nEpoch 10/20\n1875/1875 [==============================] - 5s 3ms/step - loss: 0.0075 - accuracy: 0.9976\nEpoch 11/20\n1875/1875 [==============================] - 5s 3ms/step - loss: 0.0078 - accuracy: 0.9975\nEpoch 12/20\n1875/1875 [==============================] - 5s 3ms/step - loss: 0.0071 - accuracy: 0.9974\nEpoch 13/20\n1875/1875 [==============================] - 5s 3ms/step - loss: 0.0077 - accuracy: 0.9976\nEpoch 14/20\n1875/1875 [==============================] - 5s 3ms/step - loss: 0.0067 - accuracy: 0.9979\nEpoch 15/20\n1875/1875 [==============================] - 5s 3ms/step - loss: 0.0047 - accuracy: 0.9986\nEpoch 16/20\n1875/1875 [==============================] - 5s 3ms/step - loss: 0.0061 - accuracy: 0.9981\nEpoch 17/20\n1875/1875 [==============================] - 5s 3ms/step - loss: 0.0048 - accuracy: 0.9984\nEpoch 18/20\n1875/1875 [==============================] - 5s 3ms/step - loss: 0.0059 - accuracy: 0.9983\nEpoch 19/20\n1875/1875 [==============================] - 5s 3ms/step - loss: 0.0044 - accuracy: 0.9987\nEpoch 20/20\n1875/1875 [==============================] - 5s 3ms/step - loss: 0.0054 - accuracy: 0.9985\n"
    },
    {
     "output_type": "execute_result",
     "data": {
      "text/plain": "<tensorflow.python.keras.callbacks.History at 0x2173fb4ff88>"
     },
     "metadata": {},
     "execution_count": 10
    }
   ],
   "source": [
    "model.compile(optimizer='adam',\n",
    "              loss='sparse_categorical_crossentropy',\n",
    "              metrics=['accuracy'])\n",
    "\n",
    "model.fit(train_images, train_labels, epochs=20)"
   ]
  },
  {
   "cell_type": "code",
   "execution_count": 11,
   "metadata": {
    "tags": []
   },
   "outputs": [
    {
     "output_type": "stream",
     "name": "stdout",
     "text": "313/313 - 1s - loss: 0.0407 - accuracy: 0.9920\n"
    }
   ],
   "source": [
    "test_loss, test_acc = model.evaluate(test_images,  test_labels, verbose=2)"
   ]
  },
  {
   "cell_type": "code",
   "execution_count": 12,
   "metadata": {
    "tags": []
   },
   "outputs": [
    {
     "output_type": "stream",
     "name": "stdout",
     "text": "0.9919999837875366\n"
    }
   ],
   "source": [
    "print(test_acc)"
   ]
  },
  {
   "cell_type": "code",
   "execution_count": null,
   "metadata": {},
   "outputs": [],
   "source": [
    "# https://www.tensorflow.org/tutorials/images/cnn?hl=ko 합성곡 신경망"
   ]
  }
 ]
}